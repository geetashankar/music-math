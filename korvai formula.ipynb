{
 "cells": [
  {
   "cell_type": "markdown",
   "metadata": {},
   "source": [
    "# Korvai Count Calculator \n",
    "#### (sorry if this makes no sense to non-Carnatic music musicians and listeners sigh)"
   ]
  },
  {
   "cell_type": "markdown",
   "metadata": {},
   "source": [
    "### Why a Korvai Count Calculator? \n",
    "*You are singing a full-length concert with many songs in which you will be singing kalpana swarams. Unfortunately, you did not have time to prepare korvais for each of these songs ahead of time. Not only are these songs in a variety of talams, but you are also singing kalpana swarams to some **atypical** edams. How can you quickly calculate the number of counts that you will need to make a korvai, given any arbitrary talam and edupu?*"
   ]
  },
  {
   "cell_type": "markdown",
   "metadata": {},
   "source": [
    "![](korvaimeme.jpg)\n",
    "\n",
    "(I would like to extend my thanks to Srivatsan Sridhar for posting the meme above on the Subtle Thakadimi Traits Facebook group. I found it quite apt!)"
   ]
  },
  {
   "cell_type": "markdown",
   "metadata": {},
   "source": [
    "## Theory Behind Korvai Count Calculator\n",
    "My laya guru, Shri M.N.Hariharan, taught me this simple formula to quickly figure out how many counts you need to construct a korvai given a talam and edupu.\n",
    "\n",
    "#### Key Terms and Equations\n",
    "AS = after samam <br>\n",
    "BS = before samam <br>\n",
    "SS = samam to samam <br>\n",
    "E = edupu <br>\n",
    "**SS = AS + BP** <br>\n",
    "\n",
    "#### How to Find AS for any talam\n",
    "SS (samam to samam) is the number of counts in a talam. First we find the closest number to SS that is divisible by 3. Let's take Adi Talam as an example. The closest mulitple of 3 to 32 is 33. We divide this number by 3 to get the AS, so for Adi Talam, the AS is 11. However, let us say we are singing in Misra Jumpa Talam which has a total of 40 counts. The nearest mulitple of 3 to 40 is 39, which we got by *subtracting 1*. Therefore, when we divide 39 by 3 to get 13, we have calculated the BS. To find the AS, we simply do SS - BS and get 40-13 = 27. \n",
    "\n",
    "![](confusedmeme.jpg)\n",
    "\n",
    "#### Using AS to Find a Korvai Count for Any Edupu (that is not already divisible by 3)\n",
    "Now that we have the AS of the talam we are singing in, we need to figure out how many counts to construct our korvai in, given any edupu. If you have an edupu E, find the closest multiple of 3 that is less than E. (You should always be finding a number that is *1 or 2 less than E* if you are calculating this correctly.) \n",
    "\n",
    "If you found a number 1 less than E that is divisible by 3:\n",
    "**Korvai count = (E - 1)/3 + AS**\n",
    "\n",
    "If you found a number 2 less than E that is divisible by 3:\n",
    "**Korvai count = (E - 2)/3 + (2 x AS)**\n",
    "\n",
    "Example 1: How long should my korvai be if I want sing a korvai in Adi talam for a 4 after edupu?\n",
    "AS = 11\n",
    "E = 4\n",
    "Korvai count = (4-1)/3 + 11 = 1 + 11 = **12** \n",
    "Double Check = 12 x 3 - 32 = 4 (It works!)\n",
    "\n",
    "Example 2: How long should my korvai be if I want sing a korvai in Adi talam for a 5 after edupu?\n",
    "AS = 11\n",
    "E = 5\n",
    "Korvai count = (5-1)/3 + 2 x 11 = 1 + 22 = **23** \n",
    "Double Check = 23 x 3 - 64 (2 avarthanams of 32 beats) = 5 (It works!)\n",
    "\n",
    "![](swarammeme.jpg)\n",
    "\n",
    "(I would like to extend my thanks to Vinithra Sudhakar for posting the meme above on the Subtle Thakadimi Traits Facebook group.)\n",
    "\n",
    "\n",
    "\n",
    "# Functions\n",
    "This *generic* function basically does the main calculation. Given the edupu and AS parameters, it returns the number of counts for which you should construct a korvai."
   ]
  },
  {
   "cell_type": "code",
   "execution_count": 95,
   "metadata": {},
   "outputs": [],
   "source": [
    "def generic(edupu,AS):\n",
    "    if edupu%3==0:\n",
    "        return edupu/3\n",
    "    elif (edupu-2)%3==0:\n",
    "        return 2*AS + (edupu-2)/3\n",
    "    elif (edupu-1)%3==0:\n",
    "        return AS + (edupu-1)/3"
   ]
  },
  {
   "cell_type": "markdown",
   "metadata": {},
   "source": [
    "The *SS* function calculates AS given the SS (number of counts in the talam) parameter."
   ]
  },
  {
   "cell_type": "code",
   "execution_count": 96,
   "metadata": {},
   "outputs": [],
   "source": [
    "#given SS, return AS\n",
    "def SS(x):\n",
    "    if x%3==0:\n",
    "        return x/3\n",
    "    elif (x+1)%3==0:\n",
    "        AS = (x+1)/3\n",
    "        BS = x - AS\n",
    "        return AS\n",
    "    elif (x-1)%3==0:\n",
    "        BS = (x-1)/3\n",
    "        AS = x - BS\n",
    "        return AS\n",
    "    "
   ]
  },
  {
   "cell_type": "markdown",
   "metadata": {},
   "source": [
    "It turns out that it requires even less effort to quickly figure out for how many counts you should construct a korvai in misra chapu for any edupu. Simply multiply the edupu E by 5!"
   ]
  },
  {
   "cell_type": "code",
   "execution_count": 97,
   "metadata": {},
   "outputs": [],
   "source": [
    "def mchapu(edupu):\n",
    "    return edupu*5"
   ]
  },
  {
   "cell_type": "markdown",
   "metadata": {},
   "source": [
    "Khanda chapu is equally easy to quickly figure out for how many counts you should construct a korvai for any edupu. Multiply the edupu E by 7!"
   ]
  },
  {
   "cell_type": "code",
   "execution_count": 98,
   "metadata": {},
   "outputs": [],
   "source": [
    "def kchapu(edupu):\n",
    "    return edupu*7"
   ]
  },
  {
   "cell_type": "markdown",
   "metadata": {},
   "source": [
    "This main function combines all the functions above. Enter a talam, edupu, and number of counts, and it does the math for you!"
   ]
  },
  {
   "cell_type": "code",
   "execution_count": 106,
   "metadata": {},
   "outputs": [],
   "source": [
    "from IPython.display import HTML as html_print\n",
    "def main():\n",
    "    talam = input(\"Enter the talam: \") \n",
    "    print(talam) \n",
    "    edupu = input(\"Enter the edupu: \") \n",
    "    print(edupu) \n",
    "    counts = input(\"Enter the number of counts: \") \n",
    "    print(counts)     \n",
    "    if int(counts)%3 == 0 and int(edupu)%3 != 0:\n",
    "        result_str = \"This talam is divisible by 3, so an edupu that is indivisible by 3 does not work.\"\n",
    "        print(\"\\033[31m\" + result_str + \"\\033[0m\")\n",
    "        return\n",
    "    if int(counts)%3 == 0 and int(edupu)%3 == 0:\n",
    "        result_str = \"This talam is divisible by 3, so you can divide the edupu by 3. In this case you should make a korvai for \" + str(int((int(edupu)/3))) + \" or \" + str(int((int(edupu)/3+int(counts)))) + \" beats.\" \n",
    "        print(\"\\033[31m\" + result_str + \"\\033[0m\")\n",
    "        return\n",
    "    if talam == 'khanda chapu':\n",
    "        result = kchapu(int(edupu))\n",
    "    elif talam == 'misra chapu':\n",
    "        result = mchapu(int(edupu))\n",
    "    else:\n",
    "        AS = SS(int(counts))\n",
    "        result = generic(int(edupu),int(AS))\n",
    "    alt_result = int(result)+int(counts)\n",
    "    result_str = \"Make a korvai for \"+ str(int(result)) + \" or \" + str(alt_result) + \" beats.\"\n",
    "    print(\"\\033[31m\" + result_str + \"\\033[0m\")\n",
    "    \n",
    "    "
   ]
  },
  {
   "cell_type": "code",
   "execution_count": 100,
   "metadata": {},
   "outputs": [
    {
     "name": "stdout",
     "output_type": "stream",
     "text": [
      "Enter the talam: Adi\n",
      "Adi\n",
      "Enter the edupu: 4\n",
      "4\n",
      "Enter the number of counts: 32\n",
      "32\n",
      "\u001b[31mMake a korvai for 12 or 44 beats.\u001b[0m\n"
     ]
    }
   ],
   "source": [
    "main()"
   ]
  },
  {
   "cell_type": "code",
   "execution_count": 101,
   "metadata": {},
   "outputs": [
    {
     "name": "stdout",
     "output_type": "stream",
     "text": [
      "Enter the talam: Adi\n",
      "Adi\n",
      "Enter the edupu: 5\n",
      "5\n",
      "Enter the number of counts: 32\n",
      "32\n",
      "\u001b[31mMake a korvai for 23 or 55 beats.\u001b[0m\n"
     ]
    }
   ],
   "source": [
    "main()"
   ]
  },
  {
   "cell_type": "code",
   "execution_count": 102,
   "metadata": {},
   "outputs": [
    {
     "name": "stdout",
     "output_type": "stream",
     "text": [
      "Enter the talam: Misra Jumpa\n",
      "Misra Jumpa\n",
      "Enter the edupu: 5\n",
      "5\n",
      "Enter the number of counts: 40\n",
      "40\n",
      "\u001b[31mMake a korvai for 55 or 95 beats.\u001b[0m\n"
     ]
    }
   ],
   "source": [
    "main()"
   ]
  },
  {
   "cell_type": "code",
   "execution_count": 103,
   "metadata": {},
   "outputs": [
    {
     "name": "stdout",
     "output_type": "stream",
     "text": [
      "Enter the talam: Misra Jumpa\n",
      "Misra Jumpa\n",
      "Enter the edupu: 7\n",
      "7\n",
      "Enter the number of counts: 40\n",
      "40\n",
      "\u001b[31mMake a korvai for 29 or 69 beats.\u001b[0m\n"
     ]
    }
   ],
   "source": [
    "main()"
   ]
  },
  {
   "cell_type": "code",
   "execution_count": 104,
   "metadata": {},
   "outputs": [
    {
     "name": "stdout",
     "output_type": "stream",
     "text": [
      "Enter the talam: Rupakam\n",
      "Rupakam\n",
      "Enter the edupu: 5\n",
      "5\n",
      "Enter the number of counts: 12\n",
      "12\n",
      "\u001b[31mThis talam is divisible by 3, so an edupu that is indivisible by 3 does not work.\u001b[0m\n"
     ]
    }
   ],
   "source": [
    "main()"
   ]
  },
  {
   "cell_type": "code",
   "execution_count": 107,
   "metadata": {},
   "outputs": [
    {
     "name": "stdout",
     "output_type": "stream",
     "text": [
      "Enter the talam: Rupakam\n",
      "Rupakam\n",
      "Enter the edupu: 3\n",
      "3\n",
      "Enter the number of counts: 12\n",
      "12\n",
      "\u001b[31mThis talam is divisible by 3, so you can divide the edupu by 3. In this case you should make a korvai for 1 or 13 beats.\u001b[0m\n"
     ]
    }
   ],
   "source": [
    "main()"
   ]
  },
  {
   "cell_type": "markdown",
   "metadata": {},
   "source": [
    "### This is a Misra Chapu Specific Calculator"
   ]
  },
  {
   "cell_type": "code",
   "execution_count": 75,
   "metadata": {},
   "outputs": [],
   "source": [
    "def misra_chapu():\n",
    "    edupu = input(\"Enter the edupu: \") \n",
    "    print(edupu)\n",
    "    result = mchapu(int(edupu))\n",
    "    alt_result = int(result)+ 14\n",
    "    result_str = \"Make a korvai for \"+ str(int(result)) + \" or \" + str(alt_result) + \" beats.\"\n",
    "    print(\"\\033[31m\" + result_str + \"\\033[0m\")"
   ]
  },
  {
   "cell_type": "code",
   "execution_count": 76,
   "metadata": {},
   "outputs": [
    {
     "name": "stdout",
     "output_type": "stream",
     "text": [
      "Enter the edupu: 5\n",
      "5\n",
      "\u001b[31mMake a korvai for 25 or 39 beats.\u001b[0m\n"
     ]
    }
   ],
   "source": [
    "misra_chapu()"
   ]
  },
  {
   "cell_type": "markdown",
   "metadata": {},
   "source": [
    "### This is a Khanda Chapu Specific Calculator"
   ]
  },
  {
   "cell_type": "code",
   "execution_count": 73,
   "metadata": {},
   "outputs": [],
   "source": [
    "def khanda_chapu():\n",
    "    edupu = input(\"Enter the edupu: \") \n",
    "    print(edupu)\n",
    "    result = kchapu(int(edupu))\n",
    "    alt_result = int(result) + 10\n",
    "    result_str = \"Make a korvai for \"+ str(int(result)) + \" or \" + str(alt_result) + \" beats.\"\n",
    "    print(\"\\033[31m\" + result_str + \"\\033[0m\")"
   ]
  },
  {
   "cell_type": "code",
   "execution_count": 74,
   "metadata": {},
   "outputs": [
    {
     "name": "stdout",
     "output_type": "stream",
     "text": [
      "Enter the edupu: 5\n",
      "5\n",
      "\u001b[31mMake a korvai for 35 or 45 beats.\u001b[0m\n"
     ]
    }
   ],
   "source": [
    "khanda_chapu()"
   ]
  },
  {
   "cell_type": "markdown",
   "metadata": {},
   "source": [
    "### This is a Non Chapu Talam Specific Calculator"
   ]
  },
  {
   "cell_type": "code",
   "execution_count": 108,
   "metadata": {},
   "outputs": [],
   "source": [
    "def non_chapu():\n",
    "    edupu = input(\"Enter the edupu: \") \n",
    "    print(edupu) \n",
    "    counts = input(\"Enter the number of counts in the talam: \") \n",
    "    print(counts)  \n",
    "    if int(counts)%3 == 0 and int(edupu)%3 != 0:\n",
    "        result_str = \"This talam is divisible by 3, so an edupu that is indivisible by 3 does not work.\"\n",
    "        print(\"\\033[31m\" + result_str + \"\\033[0m\")\n",
    "        return\n",
    "    if int(counts)%3 == 0 and int(edupu)%3 == 0:\n",
    "        result_str = \"This talam is divisible by 3, so you can divide the edupu by 3. In this case you should make a korvai for \" + str(int((int(edupu)/3))) + \" or \" + str(int((int(edupu)/3+int(counts)))) + \" beats.\" \n",
    "        print(\"\\033[31m\" + result_str + \"\\033[0m\")\n",
    "        return\n",
    "    AS = SS(int(counts))\n",
    "    result = int(generic(int(edupu),int(AS)))\n",
    "    alt_result = int(result)+int(counts)\n",
    "    result_str = \"Make a korvai for \"+ str(int(result)) + \" or \" + str(alt_result) + \" beats.\"\n",
    "    print(\"\\033[31m\" + result_str + \"\\033[0m\")\n",
    "    "
   ]
  },
  {
   "cell_type": "code",
   "execution_count": 109,
   "metadata": {},
   "outputs": [
    {
     "name": "stdout",
     "output_type": "stream",
     "text": [
      "Enter the edupu: 4\n",
      "4\n",
      "Enter the number of counts in the talam: 32\n",
      "32\n",
      "\u001b[31mMake a korvai for 12 or 44 beats.\u001b[0m\n"
     ]
    }
   ],
   "source": [
    "non_chapu()"
   ]
  },
  {
   "cell_type": "code",
   "execution_count": 111,
   "metadata": {},
   "outputs": [
    {
     "name": "stdout",
     "output_type": "stream",
     "text": [
      "Enter the edupu: 5\n",
      "5\n",
      "Enter the number of counts in the talam: 40\n",
      "40\n",
      "\u001b[31mMake a korvai for 55 or 95 beats.\u001b[0m\n"
     ]
    }
   ],
   "source": [
    "non_chapu()"
   ]
  },
  {
   "cell_type": "markdown",
   "metadata": {},
   "source": [
    "# This is no longer us :)\n",
    "\n",
    "![](advaithmeme.jpg)\n",
    "\n",
    "(I would like to extend my thanks to Advaith Veturi for posting the meme above on the Subtle Thakadimi Traits Facebook group.)"
   ]
  },
  {
   "cell_type": "markdown",
   "metadata": {},
   "source": [
    "### Stay tuned for a part 2 blog on actually constructing the purvangam and utarangam for korvais!"
   ]
  },
  {
   "cell_type": "markdown",
   "metadata": {},
   "source": [
    "**A little bit about the author:**\n",
    "Geeta Shankar is a rising junior at UC Berkeley studying Data Science with an emphasis in Molecular Biology & Genomics. She has been learning Carnatic music since the age of 4. She is the disciple of Shri Neyveli Santhanagopalan. \n",
    "https://www.linkedin.com/in/geeta-shankar/"
   ]
  }
 ],
 "metadata": {
  "kernelspec": {
   "display_name": "Python 3",
   "language": "python",
   "name": "python3"
  },
  "language_info": {
   "codemirror_mode": {
    "name": "ipython",
    "version": 3
   },
   "file_extension": ".py",
   "mimetype": "text/x-python",
   "name": "python",
   "nbconvert_exporter": "python",
   "pygments_lexer": "ipython3",
   "version": "3.7.1"
  }
 },
 "nbformat": 4,
 "nbformat_minor": 2
}
